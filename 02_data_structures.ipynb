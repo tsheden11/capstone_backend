{
  "nbformat": 4,
  "nbformat_minor": 0,
  "metadata": {
    "colab": {
      "provenance": [],
      "include_colab_link": true
    },
    "kernelspec": {
      "name": "python3",
      "display_name": "Python 3"
    },
    "language_info": {
      "name": "python"
    }
  },
  "cells": [
    {
      "cell_type": "markdown",
      "metadata": {
        "id": "view-in-github",
        "colab_type": "text"
      },
      "source": [
        "<a href=\"https://colab.research.google.com/github/tsheden11/capstone_backend/blob/main/02_data_structures.ipynb\" target=\"_parent\"><img src=\"https://colab.research.google.com/assets/colab-badge.svg\" alt=\"Open In Colab\"/></a>"
      ]
    },
    {
      "cell_type": "markdown",
      "source": [
        "## **Project Title: Fantasy Quest Inventory Management System**\n"
      ],
      "metadata": {
        "id": "9oqDuzKrvTiI"
      }
    },
    {
      "cell_type": "markdown",
      "source": [
        "**Part** 1: Character Profile (Using Dictionaries and Basic Types)\n"
      ],
      "metadata": {
        "id": "4nHITUxUvQ-8"
      }
    },
    {
      "cell_type": "code",
      "source": [
        "# Create a dictionary named character_profile to store Alistair's basic information. The dictionary should have the following key-value pairs:\n",
        "\n",
        "charecter_profile = {\n",
        " 'name': \"Alistair the Brave\",\n",
        "    'level': 1,\n",
        "    'health': 100,\n",
        "    'mana': 50,\n",
        "    'gold': 50.75,\n",
        "    'is_alive': True\n",
        "}\n"
      ],
      "metadata": {
        "id": "ISfVvWlPvgWs"
      },
      "execution_count": 11,
      "outputs": []
    },
    {
      "cell_type": "markdown",
      "source": [
        "**Tasks**"
      ],
      "metadata": {
        "id": "_j1ZeavFws5i"
      }
    },
    {
      "cell_type": "code",
      "source": [
        "# Print the character's name and level in a formatted string.\n",
        "print(charecter_profile['level'])\n"
      ],
      "metadata": {
        "colab": {
          "base_uri": "https://localhost:8080/"
        },
        "id": "HnKzICaTwWt0",
        "outputId": "80659f87-3f69-4518-bb6b-7a4eb3cb2b9d"
      },
      "execution_count": 12,
      "outputs": [
        {
          "output_type": "stream",
          "name": "stdout",
          "text": [
            "1\n"
          ]
        }
      ]
    },
    {
      "cell_type": "code",
      "source": [
        "# Update the character's health to 85.\n",
        "charecter_profile['health'] = 85"
      ],
      "metadata": {
        "id": "gM4WBXC6xPAi"
      },
      "execution_count": 13,
      "outputs": []
    },
    {
      "cell_type": "code",
      "source": [
        "# Add a new key-value pair for 'experience' with a value of 0.\n",
        "charecter_profile['experience'] = 0\n",
        "\n",
        "# Print the final character_profile dictionary to the console.\n",
        "print(charecter_profile)"
      ],
      "metadata": {
        "colab": {
          "base_uri": "https://localhost:8080/"
        },
        "id": "1BJI-eQ-xdho",
        "outputId": "c53c3880-88da-4b21-d402-2fe2aff31c2c"
      },
      "execution_count": 14,
      "outputs": [
        {
          "output_type": "stream",
          "name": "stdout",
          "text": [
            "{'name': 'Alistair the Brave', 'level': 1, 'health': 85, 'mana': 50, 'gold': 50.75, 'is_alive': True, 'experience': 0}\n"
          ]
        }
      ]
    },
    {
      "cell_type": "markdown",
      "source": [
        "**Part** 2: Inventory System (Using Lists)"
      ],
      "metadata": {
        "id": "yhGATKy0yDqV"
      }
    },
    {
      "cell_type": "code",
      "source": [
        "# Create a list named inventory to hold the items Alistair is carrying. Items should be represented as strings.\n",
        "\n",
        "inventory = []"
      ],
      "metadata": {
        "id": "PK7_Ame-x0xI"
      },
      "execution_count": 15,
      "outputs": []
    },
    {
      "cell_type": "markdown",
      "source": [
        "**Tasks**"
      ],
      "metadata": {
        "id": "K0YhJlxCyfWp"
      }
    },
    {
      "cell_type": "code",
      "source": [
        "# Initialize the list with a few items, for example: ['sword', 'shield', 'health potion'].\n",
        "\n",
        "inventory = ['sword', 'shield', 'health potion']\n",
        "\n",
        "# Add a new item to the inventory (e.g., 'mana potion').\n",
        "\n",
        "inventory.append('mana potion')\n",
        "\n",
        "# Remove an existing item from the inventory (e.g., 'shield').\n",
        "\n",
        "inventory.remove('shield')\n",
        "\n",
        "# Use a for loop to iterate through the inventory list and print each item.\n",
        "\n",
        "for items in inventory:\n",
        "  print(items)"
      ],
      "metadata": {
        "colab": {
          "base_uri": "https://localhost:8080/"
        },
        "id": "wrI0mgk9yN18",
        "outputId": "34bf3eab-ef81-4072-ee9b-3df2a4c0d74e"
      },
      "execution_count": 16,
      "outputs": [
        {
          "output_type": "stream",
          "name": "stdout",
          "text": [
            "sword\n",
            "health potion\n",
            "mana potion\n"
          ]
        }
      ]
    },
    {
      "cell_type": "markdown",
      "source": [
        "***Part*** 3: Character Stats (Using Tuples)"
      ],
      "metadata": {
        "id": "EiubCvqnzpm0"
      }
    },
    {
      "cell_type": "code",
      "source": [
        "# Tuples are great for storing data that should not change.\n",
        "# Create a tuple named base_stats to store Alistair's base attributes.\n",
        "#The tuple should contain (strength, dexterity, intelligence).Choose a starting value for each attribute (e.g., (10, 8, 12)).\n",
        "\n",
        "base_state = (10,8,12)"
      ],
      "metadata": {
        "id": "czcvfXjbytP2"
      },
      "execution_count": 17,
      "outputs": []
    },
    {
      "cell_type": "markdown",
      "source": [
        "**Tasks**"
      ],
      "metadata": {
        "id": "4qqzWxJw7qqe"
      }
    },
    {
      "cell_type": "code",
      "source": [
        "# Print a statement explaining why a tuple is a good choice for base stats (because they are immutable and won't change).\n",
        "reason = 'The reason why a tuple is a good choice for base stats is because base stats are immutable and wont change'\n",
        "print(reason)\n",
        "\n",
        "# Access and print the value of intelligence from the base_stats tuple.\n",
        "print(base_state[2])"
      ],
      "metadata": {
        "colab": {
          "base_uri": "https://localhost:8080/"
        },
        "id": "6oULb20zzHwu",
        "outputId": "fc694571-aa3c-41ee-9195-43938e56bbe4"
      },
      "execution_count": 18,
      "outputs": [
        {
          "output_type": "stream",
          "name": "stdout",
          "text": [
            "The reason why a tuple is a good choice for base stats is because base stats are immutable and wont change\n",
            "12\n"
          ]
        }
      ]
    },
    {
      "cell_type": "code",
      "source": [
        "# Challenge: Try to change one of the values in the tuple. Observe and explain the error you receive.\n",
        "# base_state[2] = 10\n"
      ],
      "metadata": {
        "id": "acYjuhIf01sH"
      },
      "execution_count": 33,
      "outputs": []
    },
    {
      "cell_type": "markdown",
      "source": [
        "---------------------------------------------------------------------------\n",
        "TypeError                                 Traceback (most recent call last)\n",
        "/tmp/ipython-input-3059649258.py in <cell line: 0>()\n",
        "      1 # Challenge: Try to change one of the values in the tuple. Observe and explain the error you receive.\n",
        "----> 2 base_state[2] = 10\n",
        "\n",
        "TypeError: 'tuple' object does not support item assignment\n",
        "---------------------------------------------------------------------------\n",
        "\n",
        "Explaination :\n",
        "\n",
        "Tuples are immutable in Python. This means that once a tuple is created, you cannot change its elements. The code in the cell is attempting to modify an element in the base_state tuple, which is why the error is raised. This demonstrates why tuples are a good choice for storing data that should not change, like base character stats."
      ],
      "metadata": {
        "id": "zPAuzfqd1kqi"
      }
    },
    {
      "cell_type": "markdown",
      "source": [
        "**Part 4**: Quest Log (Using Sets)"
      ],
      "metadata": {
        "id": "tRN9yLZv2EEc"
      }
    },
    {
      "cell_type": "code",
      "source": [
        "# A set is ideal for tracking unique items. Create a set named quest_log to store the titles of Alistair's active quests.\n",
        "\n",
        "quest_log = {}"
      ],
      "metadata": {
        "id": "41Qk59i61dp0"
      },
      "execution_count": 20,
      "outputs": []
    },
    {
      "cell_type": "markdown",
      "source": [
        "**Tasks**"
      ],
      "metadata": {
        "id": "q2VRoGc37mQi"
      }
    },
    {
      "cell_type": "code",
      "source": [
        "# Initialize the set with a few quests, for example: {'Defeat the Goblin King', 'Find the Lost Amulet'}.\n",
        "\n",
        "quest_log = {'Defeat the Goblin King', 'Find the Lost Amulet'}\n",
        "quest_log\n"
      ],
      "metadata": {
        "colab": {
          "base_uri": "https://localhost:8080/"
        },
        "id": "8pzITP9n2Yx9",
        "outputId": "66f2b726-0e4a-4a81-c46d-5f7621bc64dd"
      },
      "execution_count": 21,
      "outputs": [
        {
          "output_type": "execute_result",
          "data": {
            "text/plain": [
              "{'Defeat the Goblin King', 'Find the Lost Amulet'}"
            ]
          },
          "metadata": {},
          "execution_count": 21
        }
      ]
    },
    {
      "cell_type": "code",
      "source": [
        "# Add a new quest to the log (e.g., 'Deliver the Old Scroll').\n",
        "quest_log.add('Deliver the Old Scroll')\n",
        "quest_log"
      ],
      "metadata": {
        "colab": {
          "base_uri": "https://localhost:8080/"
        },
        "id": "i3CMT9FN6WCJ",
        "outputId": "40952e7f-413f-45dc-aa45-492dd0161229"
      },
      "execution_count": 22,
      "outputs": [
        {
          "output_type": "execute_result",
          "data": {
            "text/plain": [
              "{'Defeat the Goblin King', 'Deliver the Old Scroll', 'Find the Lost Amulet'}"
            ]
          },
          "metadata": {},
          "execution_count": 22
        }
      ]
    },
    {
      "cell_type": "code",
      "source": [
        "# Remove an existing quest from the log (e.g., 'Find the Lost Amulet').\n",
        "quest_log.remove('Find the Lost Amulet')\n",
        "quest_log"
      ],
      "metadata": {
        "colab": {
          "base_uri": "https://localhost:8080/"
        },
        "id": "nPvQo7z56Zsl",
        "outputId": "1220d7ba-7145-4cfa-92a0-884c39a4ffc7"
      },
      "execution_count": 23,
      "outputs": [
        {
          "output_type": "execute_result",
          "data": {
            "text/plain": [
              "{'Defeat the Goblin King', 'Deliver the Old Scroll'}"
            ]
          },
          "metadata": {},
          "execution_count": 23
        }
      ]
    },
    {
      "cell_type": "code",
      "source": [
        "# Add a quest that is already in the set. Notice how the set handles duplicates.\n",
        "quest_log.add('Deliver the Old Scroll')\n",
        "quest_log"
      ],
      "metadata": {
        "colab": {
          "base_uri": "https://localhost:8080/"
        },
        "id": "fCb_A9F_6c_I",
        "outputId": "3806c9c8-6aea-4cd1-f8ec-cb9b3036660a"
      },
      "execution_count": 24,
      "outputs": [
        {
          "output_type": "execute_result",
          "data": {
            "text/plain": [
              "{'Defeat the Goblin King', 'Deliver the Old Scroll'}"
            ]
          },
          "metadata": {},
          "execution_count": 24
        }
      ]
    },
    {
      "cell_type": "code",
      "source": [
        "# Remove a completed quest from the log (e.g., 'Find the Lost Amulet').\n",
        "quest_log.remove('Deliver the Old Scroll')\n",
        "quest_log"
      ],
      "metadata": {
        "colab": {
          "base_uri": "https://localhost:8080/"
        },
        "id": "WGBtnRfn6fcD",
        "outputId": "7865b3c4-1577-4475-a8f9-450b27bb764f"
      },
      "execution_count": 25,
      "outputs": [
        {
          "output_type": "execute_result",
          "data": {
            "text/plain": [
              "{'Defeat the Goblin King'}"
            ]
          },
          "metadata": {},
          "execution_count": 25
        }
      ]
    },
    {
      "cell_type": "code",
      "source": [
        "# Print the final quest_log set.\n",
        "print(quest_log)"
      ],
      "metadata": {
        "colab": {
          "base_uri": "https://localhost:8080/"
        },
        "id": "nTx9PSlj6ik8",
        "outputId": "0b6edb1c-d97b-4e14-b4fc-3d56e028a1f2"
      },
      "execution_count": 26,
      "outputs": [
        {
          "output_type": "stream",
          "name": "stdout",
          "text": [
            "{'Defeat the Goblin King'}\n"
          ]
        }
      ]
    },
    {
      "cell_type": "markdown",
      "source": [
        "**Part** **5**: Putting it all together"
      ],
      "metadata": {
        "id": "nzl2XKWq3e_p"
      }
    },
    {
      "cell_type": "code",
      "source": [
        "# Now, combine all the data structures into a single character_sheet dictionary. This dictionary will hold all the information you've created so far.\n",
        "\n",
        "charecter_sheet = {\n",
        "    'profile': charecter_profile,\n",
        "    'inventory': inventory,\n",
        "    'stats': base_state,\n",
        "    'quests': quest_log\n",
        "    }\n",
        "\n",
        "charecter_sheet"
      ],
      "metadata": {
        "id": "U3ZeIluV2aj7",
        "colab": {
          "base_uri": "https://localhost:8080/"
        },
        "outputId": "17a4aa6c-af7f-451c-eac2-788ebc6b6336"
      },
      "execution_count": 29,
      "outputs": [
        {
          "output_type": "execute_result",
          "data": {
            "text/plain": [
              "{'profile': {'name': 'Alistair the Brave',\n",
              "  'level': 1,\n",
              "  'health': 85,\n",
              "  'mana': 50,\n",
              "  'gold': 50.75,\n",
              "  'is_alive': True,\n",
              "  'experience': 0},\n",
              " 'inventory': ['sword', 'health potion', 'mana potion'],\n",
              " 'stats': (10, 8, 12),\n",
              " 'quests': {'Defeat the Goblin King'}}"
            ]
          },
          "metadata": {},
          "execution_count": 29
        }
      ]
    }
  ]
}